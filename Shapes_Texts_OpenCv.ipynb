{
  "nbformat": 4,
  "nbformat_minor": 0,
  "metadata": {
    "colab": {
      "provenance": [],
      "authorship_tag": "ABX9TyMgcmb9U4bhLhtAqk0YEbAS",
      "include_colab_link": true
    },
    "kernelspec": {
      "name": "python3",
      "display_name": "Python 3"
    },
    "language_info": {
      "name": "python"
    }
  },
  "cells": [
    {
      "cell_type": "markdown",
      "metadata": {
        "id": "view-in-github",
        "colab_type": "text"
      },
      "source": [
        "<a href=\"https://colab.research.google.com/github/Taha-Sayyed/Machine-Learning-Project/blob/main/Shapes_Texts_OpenCv.ipynb\" target=\"_parent\"><img src=\"https://colab.research.google.com/assets/colab-badge.svg\" alt=\"Open In Colab\"/></a>"
      ]
    },
    {
      "cell_type": "code",
      "execution_count": 9,
      "metadata": {
        "id": "rZU07cCq5F_y"
      },
      "outputs": [],
      "source": [
        "import cv2\n",
        "import numpy as np\n",
        "from google.colab.patches import cv2_imshow"
      ]
    },
    {
      "cell_type": "code",
      "source": [
        "#Creating the black image\n",
        "img=np.zeros((512,512,3),np.uint8) #Creates a 512x512 matrix with 3 color channels (B, G, R).\n",
        "print(img)"
      ],
      "metadata": {
        "colab": {
          "base_uri": "https://localhost:8080/"
        },
        "id": "CTn66o_F6daf",
        "outputId": "d9d560ba-fce8-4a3e-cf65-a3d0f281498c"
      },
      "execution_count": 14,
      "outputs": [
        {
          "output_type": "stream",
          "name": "stdout",
          "text": [
            "[[[0 0 0]\n",
            "  [0 0 0]\n",
            "  [0 0 0]\n",
            "  ...\n",
            "  [0 0 0]\n",
            "  [0 0 0]\n",
            "  [0 0 0]]\n",
            "\n",
            " [[0 0 0]\n",
            "  [0 0 0]\n",
            "  [0 0 0]\n",
            "  ...\n",
            "  [0 0 0]\n",
            "  [0 0 0]\n",
            "  [0 0 0]]\n",
            "\n",
            " [[0 0 0]\n",
            "  [0 0 0]\n",
            "  [0 0 0]\n",
            "  ...\n",
            "  [0 0 0]\n",
            "  [0 0 0]\n",
            "  [0 0 0]]\n",
            "\n",
            " ...\n",
            "\n",
            " [[0 0 0]\n",
            "  [0 0 0]\n",
            "  [0 0 0]\n",
            "  ...\n",
            "  [0 0 0]\n",
            "  [0 0 0]\n",
            "  [0 0 0]]\n",
            "\n",
            " [[0 0 0]\n",
            "  [0 0 0]\n",
            "  [0 0 0]\n",
            "  ...\n",
            "  [0 0 0]\n",
            "  [0 0 0]\n",
            "  [0 0 0]]\n",
            "\n",
            " [[0 0 0]\n",
            "  [0 0 0]\n",
            "  [0 0 0]\n",
            "  ...\n",
            "  [0 0 0]\n",
            "  [0 0 0]\n",
            "  [0 0 0]]]\n"
          ]
        }
      ]
    },
    {
      "cell_type": "code",
      "source": [
        "cv2_imshow(img)"
      ],
      "metadata": {
        "colab": {
          "base_uri": "https://localhost:8080/",
          "height": 529
        },
        "id": "mStPBE3X6tXj",
        "outputId": "f649c5bd-5149-4374-e64e-64ac0dbd4bfc"
      },
      "execution_count": 15,
      "outputs": [
        {
          "output_type": "display_data",
          "data": {
            "text/plain": [
              "<PIL.Image.Image image mode=RGB size=512x512>"
            ],
            "image/png": "[encoded data removed]",
            "image/jpeg": "[encoded data removed]"
          },
          "metadata": {}
        }
      ]
    },
    {
      "cell_type": "markdown",
      "source": [
        "# Drawing the Shapes"
      ],
      "metadata": {
        "id": "sKpnIptF8NKe"
      }
    },
    {
      "cell_type": "code",
      "source": [
        "cv2.line(img,(0,0),(300,300),(0,255,0),3)"
      ],
      "metadata": {
        "colab": {
          "base_uri": "https://localhost:8080/",
          "height": 550
        },
        "id": "1XQQ68EQ7iL4",
        "outputId": "be29057a-58f6-4840-eecb-19b9d4763239"
      },
      "execution_count": 16,
      "outputs": [
        {
          "output_type": "execute_result",
          "data": {
            "text/plain": [
              "array([[[  0, 255,   0],\n",
              "        [  0, 255,   0],\n",
              "        [  0, 255,   0],\n",
              "        ...,\n",
              "        [  0,   0,   0],\n",
              "        [  0,   0,   0],\n",
              "        [  0,   0,   0]],\n",
              "\n",
              "       [[  0, 255,   0],\n",
              "        [  0, 255,   0],\n",
              "        [  0, 255,   0],\n",
              "        ...,\n",
              "        [  0,   0,   0],\n",
              "        [  0,   0,   0],\n",
              "        [  0,   0,   0]],\n",
              "\n",
              "       [[  0, 255,   0],\n",
              "        [  0, 255,   0],\n",
              "        [  0, 255,   0],\n",
              "        ...,\n",
              "        [  0,   0,   0],\n",
              "        [  0,   0,   0],\n",
              "        [  0,   0,   0]],\n",
              "\n",
              "       ...,\n",
              "\n",
              "       [[  0,   0,   0],\n",
              "        [  0,   0,   0],\n",
              "        [  0,   0,   0],\n",
              "        ...,\n",
              "        [  0,   0,   0],\n",
              "        [  0,   0,   0],\n",
              "        [  0,   0,   0]],\n",
              "\n",
              "       [[  0,   0,   0],\n",
              "        [  0,   0,   0],\n",
              "        [  0,   0,   0],\n",
              "        ...,\n",
              "        [  0,   0,   0],\n",
              "        [  0,   0,   0],\n",
              "        [  0,   0,   0]],\n",
              "\n",
              "       [[  0,   0,   0],\n",
              "        [  0,   0,   0],\n",
              "        [  0,   0,   0],\n",
              "        ...,\n",
              "        [  0,   0,   0],\n",
              "        [  0,   0,   0],\n",
              "        [  0,   0,   0]]], dtype=uint8)"
            ],
            "text/html": [
              "<style>\n",
              "      .ndarray_repr .ndarray_raw_data {\n",
              "        display: none;\n",
              "      }\n",
              "      .ndarray_repr.show_array .ndarray_raw_data {\n",
              "        display: block;\n",
              "      }\n",
              "      .ndarray_repr.show_array .ndarray_image_preview {\n",
              "        display: none;\n",
              "      }\n",
              "      </style>\n",
              "      <div id=\"id-562c9e6c-45cb-4f4e-ac12-758d1dc415cf\" class=\"ndarray_repr\"><pre>ndarray (512, 512, 3) <button style=\"padding: 0 2px;\">show data</button></pre><img src=\"data:image/png;base64,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\" class=\"ndarray_image_preview\" /><pre class=\"ndarray_raw_data\">array([[[  0, 255,   0],\n",
              "        [  0, 255,   0],\n",
              "        [  0, 255,   0],\n",
              "        ...,\n",
              "        [  0,   0,   0],\n",
              "        [  0,   0,   0],\n",
              "        [  0,   0,   0]],\n",
              "\n",
              "       [[  0, 255,   0],\n",
              "        [  0, 255,   0],\n",
              "        [  0, 255,   0],\n",
              "        ...,\n",
              "        [  0,   0,   0],\n",
              "        [  0,   0,   0],\n",
              "        [  0,   0,   0]],\n",
              "\n",
              "       [[  0, 255,   0],\n",
              "        [  0, 255,   0],\n",
              "        [  0, 255,   0],\n",
              "        ...,\n",
              "        [  0,   0,   0],\n",
              "        [  0,   0,   0],\n",
              "        [  0,   0,   0]],\n",
              "\n",
              "       ...,\n",
              "\n",
              "       [[  0,   0,   0],\n",
              "        [  0,   0,   0],\n",
              "        [  0,   0,   0],\n",
              "        ...,\n",
              "        [  0,   0,   0],\n",
              "        [  0,   0,   0],\n",
              "        [  0,   0,   0]],\n",
              "\n",
              "       [[  0,   0,   0],\n",
              "        [  0,   0,   0],\n",
              "        [  0,   0,   0],\n",
              "        ...,\n",
              "        [  0,   0,   0],\n",
              "        [  0,   0,   0],\n",
              "        [  0,   0,   0]],\n",
              "\n",
              "       [[  0,   0,   0],\n",
              "        [  0,   0,   0],\n",
              "        [  0,   0,   0],\n",
              "        ...,\n",
              "        [  0,   0,   0],\n",
              "        [  0,   0,   0],\n",
              "        [  0,   0,   0]]], dtype=uint8)</pre></div><script>\n",
              "      (() => {\n",
              "      const titles = ['show data', 'hide data'];\n",
              "      let index = 0\n",
              "      document.querySelector('#id-562c9e6c-45cb-4f4e-ac12-758d1dc415cf button').onclick = (e) => {\n",
              "        document.querySelector('#id-562c9e6c-45cb-4f4e-ac12-758d1dc415cf').classList.toggle('show_array');\n",
              "        index = (++index) % 2;\n",
              "        document.querySelector('#id-562c9e6c-45cb-4f4e-ac12-758d1dc415cf button').textContent = titles[index];\n",
              "        e.preventDefault();\n",
              "        e.stopPropagation();\n",
              "      }\n",
              "      })();\n",
              "    </script>"
            ]
          },
          "metadata": {},
          "execution_count": 16
        }
      ]
    },
    {
      "cell_type": "code",
      "source": [
        "cv2.line(img,(0,0),(img.shape[1],img.shape[0]),(0,255,0),3)\n",
        "cv2.rectangle(img,(0,0),(img.shape[1],img.shape[1]),(0,255,255),3)\n",
        "cv2.circle(img,(400,50),30,(255,255,0),5)\n",
        "cv2.putText(img,\"Sayyed\",(300,300),cv2.FONT_HERSHEY_COMPLEX,1,(0,150,0),1)\n",
        "# cv2_imshow(img)"
      ],
      "metadata": {
        "colab": {
          "base_uri": "https://localhost:8080/",
          "height": 550
        },
        "id": "GPlyMBU78b_J",
        "outputId": "ef98086e-cbe5-4cbb-9ee9-1aa72c838e5d"
      },
      "execution_count": 28,
      "outputs": [
        {
          "output_type": "execute_result",
          "data": {
            "text/plain": [
              "array([[[  0, 255, 255],\n",
              "        [  0, 255, 255],\n",
              "        [  0, 255, 255],\n",
              "        ...,\n",
              "        [  0, 255, 255],\n",
              "        [  0, 255, 255],\n",
              "        [  0, 255, 255]],\n",
              "\n",
              "       [[  0, 255, 255],\n",
              "        [  0, 255, 255],\n",
              "        [  0, 255, 255],\n",
              "        ...,\n",
              "        [  0, 255, 255],\n",
              "        [  0, 255, 255],\n",
              "        [  0, 255, 255]],\n",
              "\n",
              "       [[  0, 255, 255],\n",
              "        [  0, 255, 255],\n",
              "        [  0, 255, 255],\n",
              "        ...,\n",
              "        [  0, 255, 255],\n",
              "        [  0, 255, 255],\n",
              "        [  0, 255, 255]],\n",
              "\n",
              "       ...,\n",
              "\n",
              "       [[  0, 255, 255],\n",
              "        [  0, 255, 255],\n",
              "        [  0, 255, 255],\n",
              "        ...,\n",
              "        [  0, 255,   0],\n",
              "        [  0, 255, 255],\n",
              "        [  0, 255, 255]],\n",
              "\n",
              "       [[  0, 255, 255],\n",
              "        [  0, 255, 255],\n",
              "        [  0, 255, 255],\n",
              "        ...,\n",
              "        [  0, 255, 255],\n",
              "        [  0, 255, 255],\n",
              "        [  0, 255, 255]],\n",
              "\n",
              "       [[  0, 255, 255],\n",
              "        [  0, 255, 255],\n",
              "        [  0, 255, 255],\n",
              "        ...,\n",
              "        [  0, 255, 255],\n",
              "        [  0, 255, 255],\n",
              "        [  0, 255, 255]]], dtype=uint8)"
            ],
            "text/html": [
              "<style>\n",
              "      .ndarray_repr .ndarray_raw_data {\n",
              "        display: none;\n",
              "      }\n",
              "      .ndarray_repr.show_array .ndarray_raw_data {\n",
              "        display: block;\n",
              "      }\n",
              "      .ndarray_repr.show_array .ndarray_image_preview {\n",
              "        display: none;\n",
              "      }\n",
              "      </style>\n",
              "      <div id=\"id-100fdafe-8fda-4d99-b9a6-81dc0f28216b\" class=\"ndarray_repr\"><pre>ndarray (512, 512, 3) <button style=\"padding: 0 2px;\">show data</button></pre><img src=\"data:image/png;base64,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\" class=\"ndarray_image_preview\" /><pre class=\"ndarray_raw_data\">array([[[  0, 255, 255],\n",
              "        [  0, 255, 255],\n",
              "        [  0, 255, 255],\n",
              "        ...,\n",
              "        [  0, 255, 255],\n",
              "        [  0, 255, 255],\n",
              "        [  0, 255, 255]],\n",
              "\n",
              "       [[  0, 255, 255],\n",
              "        [  0, 255, 255],\n",
              "        [  0, 255, 255],\n",
              "        ...,\n",
              "        [  0, 255, 255],\n",
              "        [  0, 255, 255],\n",
              "        [  0, 255, 255]],\n",
              "\n",
              "       [[  0, 255, 255],\n",
              "        [  0, 255, 255],\n",
              "        [  0, 255, 255],\n",
              "        ...,\n",
              "        [  0, 255, 255],\n",
              "        [  0, 255, 255],\n",
              "        [  0, 255, 255]],\n",
              "\n",
              "       ...,\n",
              "\n",
              "       [[  0, 255, 255],\n",
              "        [  0, 255, 255],\n",
              "        [  0, 255, 255],\n",
              "        ...,\n",
              "        [  0, 255,   0],\n",
              "        [  0, 255, 255],\n",
              "        [  0, 255, 255]],\n",
              "\n",
              "       [[  0, 255, 255],\n",
              "        [  0, 255, 255],\n",
              "        [  0, 255, 255],\n",
              "        ...,\n",
              "        [  0, 255, 255],\n",
              "        [  0, 255, 255],\n",
              "        [  0, 255, 255]],\n",
              "\n",
              "       [[  0, 255, 255],\n",
              "        [  0, 255, 255],\n",
              "        [  0, 255, 255],\n",
              "        ...,\n",
              "        [  0, 255, 255],\n",
              "        [  0, 255, 255],\n",
              "        [  0, 255, 255]]], dtype=uint8)</pre></div><script>\n",
              "      (() => {\n",
              "      const titles = ['show data', 'hide data'];\n",
              "      let index = 0\n",
              "      document.querySelector('#id-100fdafe-8fda-4d99-b9a6-81dc0f28216b button').onclick = (e) => {\n",
              "        document.querySelector('#id-100fdafe-8fda-4d99-b9a6-81dc0f28216b').classList.toggle('show_array');\n",
              "        index = (++index) % 2;\n",
              "        document.querySelector('#id-100fdafe-8fda-4d99-b9a6-81dc0f28216b button').textContent = titles[index];\n",
              "        e.preventDefault();\n",
              "        e.stopPropagation();\n",
              "      }\n",
              "      })();\n",
              "    </script>"
            ]
          },
          "metadata": {},
          "execution_count": 28
        }
      ]
    },
    {
      "cell_type": "code",
      "source": [
        ""
      ],
      "metadata": {
        "id": "zMooimNF8n27"
      },
      "execution_count": null,
      "outputs": []
    }
  ]
}