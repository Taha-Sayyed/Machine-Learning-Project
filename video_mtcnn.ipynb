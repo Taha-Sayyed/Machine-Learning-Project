{
  "nbformat": 4,
  "nbformat_minor": 0,
  "metadata": {
    "colab": {
      "provenance": [],
      "authorship_tag": "ABX9TyN2BADMZxWxpItQKmeKyQiM",
      "include_colab_link": true
    },
    "kernelspec": {
      "name": "python3",
      "display_name": "Python 3"
    },
    "language_info": {
      "name": "python"
    }
  },
  "cells": [
    {
      "cell_type": "markdown",
      "metadata": {
        "id": "view-in-github",
        "colab_type": "text"
      },
      "source": [
        "<a href=\"https://colab.research.google.com/github/Taha-Sayyed/Machine-Learning-Project/blob/main/video_mtcnn.ipynb\" target=\"_parent\"><img src=\"https://colab.research.google.com/assets/colab-badge.svg\" alt=\"Open In Colab\"/></a>"
      ]
    },
    {
      "cell_type": "markdown",
      "source": [
        "\n",
        "\n",
        "---⚠️ Important Note\n",
        "Webcam may not work directly in Google Colab since it runs in a remote environment.\n",
        "If the code does not work, consider running it on your local machine (Jupyter Notebook or Python script) instead.\n",
        "\n"
      ],
      "metadata": {
        "id": "mbeCMsG-6JoP"
      }
    },
    {
      "cell_type": "code",
      "source": [
        "import cv2\n",
        "from google.colab.patches import cv2_imshow  # Import Colab's imshow\n",
        "\n",
        "cap = cv2.VideoCapture(0)  # Open webcam\n",
        "\n",
        "while True:\n",
        "    ret, frame = cap.read()  # Read frame from webcam\n",
        "    if not ret:\n",
        "        break  # Exit if no frame is captured\n",
        "\n",
        "    cv2_imshow(frame)  # Use cv2_imshow() instead of cv2.imshow()\n",
        "\n",
        "    if cv2.waitKey(1) & 0xFF == ord('x'):  # Press 'x' to exit\n",
        "        break\n",
        "\n",
        "cap.release()  # Release the webcam\n",
        "cv2.destroyAllWindows()  # Close all windows\n",
        "\n"
      ],
      "metadata": {
        "id": "KwW0_Pbd4qVP"
      },
      "execution_count": 9,
      "outputs": []
    },
    {
      "cell_type": "code",
      "source": [],
      "metadata": {
        "id": "N6k5vDkj5PIG"
      },
      "execution_count": null,
      "outputs": []
    }
  ]
}